{
 "cells": [
  {
   "cell_type": "code",
   "execution_count": 29,
   "metadata": {
    "collapsed": true
   },
   "outputs": [],
   "source": [
    "import math\n",
    "import numpy as np\n",
    "import pandas as pd\n",
    "import matplotlib.pyplot as plt"
   ]
  },
  {
   "cell_type": "code",
   "execution_count": 31,
   "metadata": {},
   "outputs": [
    {
     "name": "stdout",
     "output_type": "stream",
     "text": [
      "please insert the left value of U:10\n",
      "please insert the right value of U:-10.4261\n",
      "please insert the left value of density:500\n",
      "please insert the right value of density:400\n",
      "please insert the left value of pressure:0\n",
      "please insert the right value of pressure:0\n",
      "please insert the left value of gas mass concentration:0.2\n",
      "please insert the right value of gas mass concentration:0.4\n",
      "please insert the sound velocity in gas:100\n",
      "please insert the incompressible liquid density:1000\n",
      "please insert the time  between zero and infinity(for example 10):1\n",
      "please insert the time interval between each computing point:0.1\n",
      "please insert the lenght interval.(for example if you put 8 , it will consider +8 to -8:100\n",
      "please insert the x interval between each computing point:0.01\n"
     ]
    }
   ],
   "source": [
    "#gamma = ratio of specific heat\n",
    "UL = float(input('please insert the left value of U:'))\n",
    "UR = float(input('please insert the right value of U:'))\n",
    "rho_L = float(input('please insert the left value of density:'))\n",
    "rho_R = float(input('please insert the right value of density:'))\n",
    "PL = float(input('please insert the left value of pressure:'))\n",
    "PR = float(input('please insert the right value of pressure:'))\n",
    "yL= float(input('please insert the left value of gas mass concentration:'))\n",
    "yR= float(input('please insert the right value of gas mass concentration:'))\n",
    "a = float(input('please insert the sound velocity in gas:'))\n",
    "rhol= float(input('please insert the incompressible liquid density:'))\n",
    "Time  = float(input('please insert the time  between zero and infinity(for example 10):'))\n",
    "Delta_T = float(input('please insert the time interval between each computing point:'))\n",
    "X_interval = float(input('please insert the lenght interval.(for example if you put 8 , it will consider +8 to -8:'))\n",
    "Delta_X = float(input('please insert the x interval between each computing point:'))"
   ]
  },
  {
   "cell_type": "code",
   "execution_count": 3,
   "metadata": {
    "collapsed": true
   },
   "outputs": [],
   "source": [
    "yL = ((PL*rhol)-(PL*rho_L))/((rho_L*rhol*(a**2))-(PL*rho_L))\n",
    "yR = ((PR*rhol)-(PR*rho_R))/((rho_R*rhol*(a**2))-(PR*rho_R))"
   ]
  },
  {
   "cell_type": "code",
   "execution_count": 32,
   "metadata": {},
   "outputs": [],
   "source": [
    "PL = (rhol*rho_L*(a**2)*yL)/(rhol-rho_L*(1-yL))\n",
    "PR = (rhol*rho_R*(a**2)*yR)/(rhol-rho_R*(1-yR))"
   ]
  },
  {
   "cell_type": "code",
   "execution_count": null,
   "metadata": {},
   "outputs": [],
   "source": []
  },
  {
   "cell_type": "code",
   "execution_count": 33,
   "metadata": {
    "collapsed": true
   },
   "outputs": [],
   "source": [
    "def function_fL(p):\n",
    "    if p > PL:\n",
    "        f = -1*math.sqrt(((PL/(p*rho_L))-((PL*(1-yL))/(p*rhol))+((1-yL)/rhol)-(1/(rho_L)))*(PL-p))\n",
    "    if p <= PL:\n",
    "        f = a*math.sqrt(yL)*math.log(((PL/(p*rho_L))-((PL*(1-yL))/(p*rhol)))*(rho_L/(1-((1-yL)/rhol)*rho_L)))\n",
    "    return f\n",
    "\n",
    "def function_fR(p):\n",
    "    if p > PR:\n",
    "        f =  math.sqrt(((PR/(p*rho_R))-((PR*(1-yR))/(p*rhol))+((1-yR)/rhol)-(1/(rho_R)))*(PR-p))\n",
    "    if p <= PR:\n",
    "        f = -1*a*math.sqrt(yR)*math.log(((PR/(p*rho_R))-((PR*(1-yR))/(p*rhol)))*(rho_R/(1-((1-yR)/rhol)*rho_R)))\n",
    "    return f\n",
    "def function(p):\n",
    "    \n",
    "    f= function_fL(p) - function_fR(p) + UL-UR\n",
    "    return f\n",
    "def function_fL_der(p):\n",
    "    if p > PL:\n",
    "        \n",
    "        f = -0.5*((((PL/(p*rho_L))-((PL*(1-yL))/(p*rhol))+((1-yL)/rhol)-(1/(rho_L)))*(PL-p))**(-0.5))*(((-p**(-2))*((PL/rho_L)-(PL*(1-yL)/rhol))*(PL-p))-(((PL/(p*rho_L))-((PL*(1-yL))/(p*rhol))+((1-yL)/rhol)-(1/(rho_L)))))\n",
    "    \n",
    "    if p <= PL:\n",
    "        \n",
    "        f = a*math.sqrt(yL)*(((-p**(-2))*((PL/rho_L)-((PL/rhol)*(1-yL))))/((PL/(p*rho_L))-((PL*(1-yL))/(p*rhol))))\n",
    "        \n",
    "    return f\n",
    "\n",
    "def function_fR_der(p):\n",
    "    \n",
    "    if p > PR:\n",
    "        \n",
    "        f = 0.5*((((PR/(p*rho_R))-((PR*(1-yR))/(p*rhol))+((1-yR)/rhol)-(1/(rho_R)))*(PR-p))**(-0.5))*(((-p**(-2))*((PR/rho_R)-(PR*(1-yR)/rhol))*(PR-p))-(((PR/(p*rho_R))-((PR*(1-yR))/(p*rhol))+((1-yR)/rhol)-(1/(rho_R)))))\n",
    "        \n",
    "    if p <=PR:\n",
    "        \n",
    "        f = -1*a*math.sqrt(yR)*(((-p**(-2))*((PR/rho_R)-((PR/rhol)*(1-yR))))/((PR/(p*rho_R))-((PR*(1-yR))/(p*rhol))))\n",
    "        \n",
    "    return f\n",
    "\n",
    "def function_der(p):\n",
    "    \n",
    "    f = function_fL_der(p) - function_fR_der(p)\n",
    "    \n",
    "    return f\n",
    "def func_c(rho,y):\n",
    "    f = (rhol*a*math.sqrt(y)/(rhol-(rho*(1-y))))\n",
    "    return f"
   ]
  },
  {
   "cell_type": "code",
   "execution_count": 34,
   "metadata": {},
   "outputs": [
    {
     "data": {
      "image/png": "[encoded data removed]",
      "text/plain": [
       "<matplotlib.figure.Figure at 0x209465416a0>"
      ]
     },
     "metadata": {},
     "output_type": "display_data"
    }
   ],
   "source": [
    "i = np.arange(1000000,3000000,100)\n",
    "d = np.array([])\n",
    "\n",
    "for k in i :\n",
    "    d =  np.append(d,function(float(k)))\n",
    "   \n",
    "plt.plot(i,d)\n",
    "\n",
    "plt.show()"
   ]
  },
  {
   "cell_type": "code",
   "execution_count": null,
   "metadata": {
    "collapsed": true
   },
   "outputs": [],
   "source": []
  },
  {
   "cell_type": "code",
   "execution_count": 35,
   "metadata": {
    "collapsed": true
   },
   "outputs": [],
   "source": [
    "def newton_solver(guess,TOL):\n",
    "    x1 = guess+1\n",
    "    x2 = guess\n",
    "    i=0\n",
    "    while abs(x1-x2) > TOL:\n",
    "        i=i+1\n",
    "        x1 = x2\n",
    "        x2 = x1 - (function(x1)/function_der(x1))\n",
    "        \n",
    "    return x2,i"
   ]
  },
  {
   "cell_type": "code",
   "execution_count": 36,
   "metadata": {
    "collapsed": true
   },
   "outputs": [],
   "source": [
    "pm = newton_solver(1600000,0.001)[0]"
   ]
  },
  {
   "cell_type": "code",
   "execution_count": 37,
   "metadata": {
    "collapsed": true
   },
   "outputs": [],
   "source": [
    "Um = 0.5*(UR+UL)+0.5*(function_fL(pm)+function_fR(pm))"
   ]
  },
  {
   "cell_type": "code",
   "execution_count": 38,
   "metadata": {
    "collapsed": true
   },
   "outputs": [],
   "source": [
    "um=Um"
   ]
  },
  {
   "cell_type": "code",
   "execution_count": 41,
   "metadata": {},
   "outputs": [
    {
     "data": {
      "text/plain": [
       "-4.617636874292927"
      ]
     },
     "execution_count": 41,
     "metadata": {},
     "output_type": "execute_result"
    }
   ],
   "source": [
    "um"
   ]
  },
  {
   "cell_type": "code",
   "execution_count": 42,
   "metadata": {},
   "outputs": [
    {
     "name": "stdout",
     "output_type": "stream",
     "text": [
      "rho_m_L:600.0000221646316,rho_m_R:428.57145118840003,p:2307692.471631896,u:-4.617636874292927\n"
     ]
    }
   ],
   "source": [
    "rho_m_L = (pm*rho_L*rhol)/((PL*rhol)-(PL*rho_L*(1-yL))+(pm*rho_L*(1-yL)))\n",
    "rho_m_R = (pm*rho_R*rhol)/((PR*rhol)-(PR*rho_R*(1-yR))+(pm*rho_R*(1-yR)))\n",
    "print('rho_m_L:{},rho_m_R:{},p:{},u:{}'.format(rho_m_L,rho_m_R,pm,um))"
   ]
  },
  {
   "cell_type": "code",
   "execution_count": 13,
   "metadata": {
    "collapsed": true
   },
   "outputs": [],
   "source": [
    "#SL=(((rho_m_L*um)-(rho_L*UL))/(rho_m_L-rho_L))\n",
    "#SR=(((rho_m_R*um)-(rho_R*UR))/(rho_m_R-rho_R))\n",
    "#STL=um-func_c(rho_m_L,yL)\n",
    "#SHL=UL-func_c(rho_L,yL)\n",
    "#STR=um+func_c(rho_m_R,yR)\n",
    "#SHR=UR+func_c(rho_R,yR)"
   ]
  },
  {
   "cell_type": "code",
   "execution_count": null,
   "metadata": {
    "collapsed": true
   },
   "outputs": [],
   "source": []
  },
  {
   "cell_type": "code",
   "execution_count": 333,
   "metadata": {
    "collapsed": true
   },
   "outputs": [],
   "source": []
  },
  {
   "cell_type": "code",
   "execution_count": 311,
   "metadata": {
    "collapsed": true
   },
   "outputs": [],
   "source": []
  },
  {
   "cell_type": "code",
   "execution_count": 351,
   "metadata": {
    "collapsed": true
   },
   "outputs": [],
   "source": []
  },
  {
   "cell_type": "code",
   "execution_count": null,
   "metadata": {
    "collapsed": true
   },
   "outputs": [],
   "source": []
  },
  {
   "cell_type": "code",
   "execution_count": 319,
   "metadata": {
    "collapsed": true
   },
   "outputs": [],
   "source": [
    "x=-46.420\n",
    "t=1\n",
    "#Complete solution in the Left rarefaction wave\n",
    "u0 = um\n",
    "u = (UL+um)/2\n",
    "i=0\n",
    "while abs(u0-u)>0.00001:\n",
    "    u0 = u \n",
    "    u = UL+a*math.sqrt(yL)*(math.log(((((((rhol*a*math.sqrt(yL))/(u0-(x/t)))-rhol)*(1/(yL-1)))**(-1))-((1-yL)/rhol))*(rho_L/(1-(((1-yL)/rhol)*rho_L)))))\n",
    "    i=i+1\n",
    "    \n",
    "rho=(((((rhol*a*math.sqrt(yL))/(u-(x/t)))-rhol)*(1/(yL-1))))\n",
    "p = (rho*rhol*(a**2)*yL)/(rhol-(rho*(1-yL)))"
   ]
  },
  {
   "cell_type": "code",
   "execution_count": 353,
   "metadata": {
    "collapsed": true
   },
   "outputs": [],
   "source": [
    "x=56.158\n",
    "t=1\n",
    "#Complete solution in the Right rarefaction wave\n",
    "u0 = um\n",
    "u = (UR+um)/2\n",
    "i=0\n",
    "while abs(u0-u)>0.00001:\n",
    "    u0 = u \n",
    "    u = UR-a*math.sqrt(yR)*(math.log(((((((rhol*a*math.sqrt(yR))/(u0-(x/t)))+rhol)*(1/(1-yR)))**(-1))-((1-yR)/rhol))*(rho_R/(1-(((1-yR)/rhol)*rho_R)))))\n",
    "    i=i+1\n",
    "    \n",
    "rho=(((((rhol*a*math.sqrt(yR))/(u-(x/t)))+rhol)*(1/(1-yR))))\n",
    "p = (rho*rhol*(a**2)*yR)/(rhol-(rho*(1-yR)))"
   ]
  },
  {
   "cell_type": "code",
   "execution_count": 60,
   "metadata": {
    "collapsed": true
   },
   "outputs": [],
   "source": [
    "T = np.arange(0,Time,Delta_T)\n",
    "X = np.arange(0,X_interval+1,Delta_X)"
   ]
  },
  {
   "cell_type": "code",
   "execution_count": 61,
   "metadata": {},
   "outputs": [
    {
     "data": {
      "text/plain": [
       "array([0.0000e+00, 1.0000e-02, 2.0000e-02, ..., 1.0097e+02, 1.0098e+02,\n",
       "       1.0099e+02])"
      ]
     },
     "execution_count": 61,
     "metadata": {},
     "output_type": "execute_result"
    }
   ],
   "source": [
    "X"
   ]
  },
  {
   "cell_type": "code",
   "execution_count": 62,
   "metadata": {},
   "outputs": [
    {
     "name": "stdout",
     "output_type": "stream",
     "text": [
      "All_shock_wave\n"
     ]
    },
    {
     "name": "stderr",
     "output_type": "stream",
     "text": [
      "C:\\Program Files (x86)\\Microsoft Visual Studio\\Shared\\Anaconda3_64\\lib\\site-packages\\ipykernel_launcher.py:48: RuntimeWarning: divide by zero encountered in double_scalars\n",
      "C:\\Program Files (x86)\\Microsoft Visual Studio\\Shared\\Anaconda3_64\\lib\\site-packages\\ipykernel_launcher.py:55: RuntimeWarning: divide by zero encountered in double_scalars\n",
      "C:\\Program Files (x86)\\Microsoft Visual Studio\\Shared\\Anaconda3_64\\lib\\site-packages\\ipykernel_launcher.py:62: RuntimeWarning: divide by zero encountered in double_scalars\n",
      "C:\\Program Files (x86)\\Microsoft Visual Studio\\Shared\\Anaconda3_64\\lib\\site-packages\\ipykernel_launcher.py:69: RuntimeWarning: divide by zero encountered in double_scalars\n",
      "C:\\Program Files (x86)\\Microsoft Visual Studio\\Shared\\Anaconda3_64\\lib\\site-packages\\ipykernel_launcher.py:76: RuntimeWarning: divide by zero encountered in double_scalars\n",
      "C:\\Program Files (x86)\\Microsoft Visual Studio\\Shared\\Anaconda3_64\\lib\\site-packages\\ipykernel_launcher.py:48: RuntimeWarning: invalid value encountered in double_scalars\n",
      "C:\\Program Files (x86)\\Microsoft Visual Studio\\Shared\\Anaconda3_64\\lib\\site-packages\\ipykernel_launcher.py:55: RuntimeWarning: invalid value encountered in double_scalars\n",
      "C:\\Program Files (x86)\\Microsoft Visual Studio\\Shared\\Anaconda3_64\\lib\\site-packages\\ipykernel_launcher.py:62: RuntimeWarning: invalid value encountered in double_scalars\n",
      "C:\\Program Files (x86)\\Microsoft Visual Studio\\Shared\\Anaconda3_64\\lib\\site-packages\\ipykernel_launcher.py:69: RuntimeWarning: invalid value encountered in double_scalars\n",
      "C:\\Program Files (x86)\\Microsoft Visual Studio\\Shared\\Anaconda3_64\\lib\\site-packages\\ipykernel_launcher.py:76: RuntimeWarning: invalid value encountered in double_scalars\n"
     ]
    },
    {
     "name": "stdout",
     "output_type": "stream",
     "text": [
      "finished\n"
     ]
    }
   ],
   "source": [
    "U1_columns = []\n",
    "for x in X:\n",
    "    U1_columns.append('U_{}'.format(int(x)))\n",
    "U2_columns = []\n",
    "for x in X:\n",
    "    U2_columns.append('U_{}'.format(int(x)))\n",
    "U3_columns = []\n",
    "for x in X:\n",
    "    U3_columns.append('U_{}'.format(int(x)))\n",
    "U4_columns = []\n",
    "for x in X:\n",
    "    U4_columns.append('U_{}'.format(int(x)))\n",
    "    \n",
    "U1_database =  pd.DataFrame(columns=U1_columns)\n",
    "U1_database = pd.concat([U1_database,pd.DataFrame(columns=U1_columns,data=X.reshape(1,np.shape(X)[0]))],axis=0)\n",
    "U2_database =  pd.DataFrame(columns=U2_columns)\n",
    "U2_database = pd.concat([U2_database,pd.DataFrame(columns=U2_columns,data=X.reshape(1,np.shape(X)[0]))],axis=0)\n",
    "U3_database =  pd.DataFrame(columns=U3_columns)\n",
    "U3_database = pd.concat([U3_database,pd.DataFrame(columns=U3_columns,data=X.reshape(1,np.shape(X)[0]))],axis=0)\n",
    "U4_database =  pd.DataFrame(columns=U4_columns)\n",
    "U4_database = pd.concat([U4_database,pd.DataFrame(columns=U4_columns,data=X.reshape(1,np.shape(X)[0]))],axis=0)\n",
    "\n",
    "\n",
    "\n",
    "#In the case of two shock wave    \n",
    "if (pm > PL) and (pm > PR):\n",
    "    \n",
    "    print('All_shock_wave')\n",
    "    \n",
    "    SR=(((rho_m_R*um)-(rho_R*UR))/(rho_m_R-rho_R))\n",
    "    SL=(((rho_m_L*um)-(rho_L*UL))/(rho_m_L-rho_L))\n",
    "    \n",
    "    for t in T:\n",
    "        \n",
    "        U1 = np.array([0])   #### rho\n",
    "        U2 = np.array([0])   #### U\n",
    "        U3 = np.array([0])   #### P\n",
    "        U4 = np.array([0])   #### Y\n",
    "        \n",
    "        for x in X:\n",
    "            \n",
    "            if (x-50==0) and (t==0):\n",
    "                U1 = np.append(U1,np.nan)\n",
    "                U2 = np.append(U2,np.nan)\n",
    "                U3 = np.append(U3,np.nan)\n",
    "                U4 = np.append(U4,np.nan)\n",
    "            \n",
    "            if ((x-50)/t)>SR: \n",
    "                \n",
    "                U1 = np.append(U1,rho_R)\n",
    "                U2 = np.append(U2,UR)\n",
    "                U3 = np.append(U3,PR)\n",
    "                U4 = np.append(U4,yR)\n",
    "                \n",
    "            if ((x-50)/t)<SR and ((x-50)/t)>Um:\n",
    "                \n",
    "                U1 = np.append(U1,rho_m_R)\n",
    "                U2 = np.append(U2,Um)\n",
    "                U3 = np.append(U3,pm)\n",
    "                U4 = np.append(U4,yR)\n",
    "                \n",
    "            if ((x-50)/t) < Um and ((x-50)/t) > SL:\n",
    "                \n",
    "                U1 = np.append(U1,rho_m_L)\n",
    "                U2 = np.append(U2,Um)\n",
    "                U3 = np.append(U3,pm)\n",
    "                U4 = np.append(U4,yL)\n",
    "                \n",
    "            if ((x-50)/t) < SL:\n",
    "                \n",
    "                U1 = np.append(U1,rho_L)\n",
    "                U2 = np.append(U2,UL)\n",
    "                U3 = np.append(U3,PL)\n",
    "                U4 = np.append(U4,yL)\n",
    "                \n",
    "            if ((x-50)/t)==SR or ((x-50)/t)==SL or ((x-50)/t)==Um:\n",
    "                \n",
    "                U1 = np.append(U1,np.nan)\n",
    "                U2 = np.append(U2,np.nan)\n",
    "                U3 = np.append(U3,np.nan)\n",
    "                U4 = np.append(U4,np.nan)\n",
    "                \n",
    "        U1 = U1[1:]\n",
    "        U2 = U2[1:]\n",
    "        U3 = U3[1:]\n",
    "        U4 = U4[1:]\n",
    "        U1=U1.reshape(1,np.shape(X)[0])\n",
    "        U1 = pd.DataFrame(columns=U1_columns,data = U1)\n",
    "        U1_database=pd.concat([U1_database,U1],axis=0)\n",
    "        U2=U2.reshape(1,np.shape(X)[0])\n",
    "        U2 = pd.DataFrame(columns=U2_columns,data = U2)\n",
    "        U2_database=pd.concat([U2_database,U2],axis=0)\n",
    "        U3 = U3.reshape(1,np.shape(X)[0])\n",
    "        U3 = pd.DataFrame(columns=U3_columns,data = U3)\n",
    "        U3_database=pd.concat([U3_database,U3],axis=0)\n",
    "        U4 = U4.reshape(1,np.shape(X)[0])\n",
    "        U4 = pd.DataFrame(columns=U4_columns,data = U4)\n",
    "        U4_database=pd.concat([U4_database,U4],axis=0)\n",
    "        \n",
    "#In the case of two rarefaction wave\n",
    "if (pm < PL) and (pm < PR):\n",
    "    \n",
    "    print('All_Rarefaction_wave')\n",
    "    \n",
    "    STL=um-func_c(rho_m_L,yL)\n",
    "    SHL=UL-func_c(rho_L,yL)\n",
    "    \n",
    "    STR=um+func_c(rho_m_R,yR)\n",
    "    SHR=UR+func_c(rho_R,yR)\n",
    "    \n",
    "    for t in T:\n",
    "        \n",
    "        U1 = np.array([0])   #### rho\n",
    "        U2 = np.array([0])   #### U\n",
    "        U3 = np.array([0])   #### P\n",
    "        U4 = np.array([0])   #### Y\n",
    "        for x in X:\n",
    "            \n",
    "            if (x==0) and (t==0):\n",
    "                \n",
    "                U1 = np.append(U1,np.nan)\n",
    "                U2 = np.append(U2,np.nan)\n",
    "                U3 = np.append(U3,np.nan)\n",
    "                U4 = np.append(U4,np.nan)\n",
    "                \n",
    "            if (x/t) > SHR:\n",
    "                \n",
    "                U1 = np.append(U1,rho_R)\n",
    "                U2 = np.append(U2,UR)\n",
    "                U3 = np.append(U3,PR)\n",
    "                U4 = np.append(U4,yR)\n",
    "\n",
    "            \n",
    "            if ((x/t) > STR) and ((x/t) < SHR):\n",
    "                \n",
    "                u0 = um\n",
    "                u = (UR+um)/2\n",
    "                i=0\n",
    "                while abs(u0-u)>0.001:\n",
    "                    u0 = u \n",
    "                    u = UR-a*math.sqrt(yR)*(math.log(((((((rhol*a*math.sqrt(yR))/(u0-(x/t)))+rhol)*(1/(1-yR)))**(-1))-((1-yR)/rhol))*(rho_R/(1-(((1-yR)/rhol)*rho_R)))))\n",
    "                    i=i+1\n",
    "    \n",
    "                rho=(((((rhol*a*math.sqrt(yR))/(u-(x/t)))+rhol)*(1/(1-yR))))\n",
    "                p = (rho*rhol*(a**2)*yR)/(rhol-(rho*(1-yR)))\n",
    "                \n",
    "                U1 = np.append(U1,rho)\n",
    "                U2 = np.append(U2,u)\n",
    "                U3 = np.append(U3,p)\n",
    "                U4 = np.append(U4,yR)\n",
    "                \n",
    "            if ((x/t) < STR) and ((x/t) > Um):\n",
    "                \n",
    "                U1 = np.append(U1,rho_m_R)\n",
    "                U2 = np.append(U2,Um)\n",
    "                U3 = np.append(U3,pm)\n",
    "                U4 = np.append(U4,yR)\n",
    "                \n",
    "            if ((x/t) > STL) and ((x/t) < Um):\n",
    "                \n",
    "                U1 = np.append(U1,rho_m_L)\n",
    "                U2 = np.append(U2,Um)\n",
    "                U3 = np.append(U3,pm)\n",
    "                U4 = np.append(U4,yL)\n",
    "                \n",
    "            if ((x/t) > SHL) and ((x/t) < STL):\n",
    "                \n",
    "                u0 = um\n",
    "                u = (UL+um)/2\n",
    "                i=0\n",
    "                while abs(u0-u)>0.001:\n",
    "                    u0 = u \n",
    "                    u = UL+a*math.sqrt(yL)*(math.log(((((((rhol*a*math.sqrt(yL))/(u0-(x/t)))-rhol)*(1/(yL-1)))**(-1))-((1-yL)/rhol))*(rho_L/(1-(((1-yL)/rhol)*rho_L)))))\n",
    "                    i=i+1\n",
    "    \n",
    "                rho=(((((rhol*a*math.sqrt(yL))/(u-(x/t)))-rhol)*(1/(yL-1))))\n",
    "                p = (rho*rhol*(a**2)*yL)/(rhol-(rho*(1-yL)))\n",
    "                \n",
    "                U1 = np.append(U1,rho)\n",
    "                U2 = np.append(U2,u)\n",
    "                U3 = np.append(U3,p)\n",
    "                U4 = np.append(U4,yL)\n",
    "                \n",
    "            if (x/t) < SHL:\n",
    "                \n",
    "                U1 = np.append(U1,rho_L)\n",
    "                U2 = np.append(U2,UL)\n",
    "                U3 = np.append(U3,PL)\n",
    "                U4 = np.append(U4,yL)\n",
    "                \n",
    "            if ((x/t)==SHR) or ((x/t)==STR) or ((x/t)==Um) or ((x/t)==SHL) or  ((x/t)==STL):\n",
    "                \n",
    "                U1 = np.append(U1,np.nan)\n",
    "                U2 = np.append(U2,np.nan)\n",
    "                U3 = np.append(U3,np.nan)\n",
    "                U4 = np.append(U4,np.nan)\n",
    "\n",
    "                \n",
    "        U1 = U1[1:]\n",
    "        U2 = U2[1:]\n",
    "        U3 = U3[1:]\n",
    "        U4 = U4[1:]\n",
    "        U1=U1.reshape(1,np.shape(X)[0])\n",
    "        U1 = pd.DataFrame(columns=U1_columns,data = U1)\n",
    "        U1_database=pd.concat([U1_database,U1],axis=0)\n",
    "        U2=U2.reshape(1,np.shape(X)[0])\n",
    "        U2 = pd.DataFrame(columns=U2_columns,data = U2)\n",
    "        U2_database=pd.concat([U2_database,U2],axis=0)\n",
    "        U3 = U3.reshape(1,np.shape(X)[0])\n",
    "        U3 = pd.DataFrame(columns=U3_columns,data = U3)\n",
    "        U3_database=pd.concat([U3_database,U3],axis=0)\n",
    "        U4 = U4.reshape(1,np.shape(X)[0])\n",
    "        U4 = pd.DataFrame(columns=U4_columns,data = U4)\n",
    "        U4_database=pd.concat([U4_database,U4],axis=0)\n",
    "                \n",
    "#In the case of shock_rarefaction waves\n",
    "if (pm > PL) and (pm < PR):\n",
    "    \n",
    "    print('Shock_rarefaction_waves')\n",
    "    \n",
    "    SL=(((rho_m_L*um)-(rho_L*UL))/(rho_m_L-rho_L))\n",
    "    \n",
    "    \n",
    "    STR=um+func_c(rho_m_R,yR)\n",
    "    SHR=UR+func_c(rho_R,yR)\n",
    "    \n",
    "    for t in T:\n",
    "        \n",
    "        U1 = np.array([0])   #### rho\n",
    "        U2 = np.array([0])   #### U\n",
    "        U3 = np.array([0])   #### P\n",
    "        U4 = np.array([0])   #### Y\n",
    "\n",
    "        \n",
    "        for x in X:\n",
    "            \n",
    "            if (x==0) and (t==0):\n",
    "                \n",
    "                U1 = np.append(U1,np.nan)\n",
    "                U2 = np.append(U2,np.nan)\n",
    "                U3 = np.append(U3,np.nan)\n",
    "                U4 = np.append(U4,np.nan)\n",
    "                \n",
    "                \n",
    "            if (x/t) > SHR:\n",
    "                \n",
    "                U1 = np.append(U1,rho_R)\n",
    "                U2 = np.append(U2,UR)\n",
    "                U3 = np.append(U3,PR)\n",
    "                U4 = np.append(U4,yR)\n",
    "            \n",
    "            if ((x/t) > STR) and ((x/t) < SHR):\n",
    "                \n",
    "                u0 = um\n",
    "                u = (UR+um)/2\n",
    "                i=0\n",
    "                while abs(u0-u)>0.00001:\n",
    "                    u0 = u \n",
    "                    u = UR-a*math.sqrt(yR)*(math.log(((((((rhol*a*math.sqrt(yR))/(u0-(x/t)))+rhol)*(1/(1-yR)))**(-1))-((1-yR)/rhol))*(rho_R/(1-(((1-yR)/rhol)*rho_R)))))\n",
    "                    i=i+1\n",
    "    \n",
    "                rho=(((((rhol*a*math.sqrt(yR))/(u-(x/t)))+rhol)*(1/(1-yR))))\n",
    "                p = (rho*rhol*(a**2)*yR)/(rhol-(rho*(1-yR)))\n",
    "                \n",
    "                U1 = np.append(U1,rho)\n",
    "                U2 = np.append(U2,u)\n",
    "                U3 = np.append(U3,p)\n",
    "                U4 = np.append(U4,yR)\n",
    "                \n",
    "            if ((x/t) < STR) and ((x/t) > Um):\n",
    "                \n",
    "                U1 = np.append(U1,rho_m_R)\n",
    "                U2 = np.append(U2,Um)\n",
    "                U3 = np.append(U3,pm)\n",
    "                U4 = np.append(U4,yR)\n",
    "                \n",
    "            if ((x/t) < Um) and ((x/t) > SL):\n",
    "                \n",
    "                U1 = np.append(U1,rho_m_L)\n",
    "                U2 = np.append(U2,Um)\n",
    "                U3 = np.append(U3,pm)\n",
    "                U4 = np.append(U4,yL)\n",
    "                \n",
    "            if ((x/t) < SL):\n",
    "                \n",
    "                U1 = np.append(U1,rho_L)\n",
    "                U2 = np.append(U2,UL)\n",
    "                U3 = np.append(U3,PL)\n",
    "                U4 = np.append(U4,yL)\n",
    "                \n",
    "            if ((x/t)==STR) or ((x/t)==SL) or ((x/t)==Um) or ((x/t)==SHR):\n",
    "                \n",
    "                U1 = np.append(U1,np.nan)\n",
    "                U2 = np.append(U2,np.nan)\n",
    "                U3 = np.append(U3,np.nan)\n",
    "                U4 = np.append(U4,np.nan)\n",
    "                \n",
    "        U1 = U1[1:]\n",
    "        U2 = U2[1:]\n",
    "        U3 = U3[1:]\n",
    "        U4 = U4[1:]\n",
    "        U1=U1.reshape(1,np.shape(X)[0])\n",
    "        U1 = pd.DataFrame(columns=U1_columns,data = U1)\n",
    "        U1_database=pd.concat([U1_database,U1],axis=0)\n",
    "        U2=U2.reshape(1,np.shape(X)[0])\n",
    "        U2 = pd.DataFrame(columns=U2_columns,data = U2)\n",
    "        U2_database=pd.concat([U2_database,U2],axis=0)\n",
    "        U3 = U3.reshape(1,np.shape(X)[0])\n",
    "        U3 = pd.DataFrame(columns=U3_columns,data = U3)\n",
    "        U3_database=pd.concat([U3_database,U3],axis=0)\n",
    "        U4 = U4.reshape(1,np.shape(X)[0])\n",
    "        U4 = pd.DataFrame(columns=U4_columns,data = U4)\n",
    "        U4_database=pd.concat([U4_database,U4],axis=0)\n",
    "\n",
    "\n",
    "#In the case of rarefaction_shock waves\n",
    "if (pm < PL) and (pm > PR):\n",
    "    \n",
    "    print('rarefaction_shock_waves')\n",
    "    \n",
    "    SR=(((rho_m_R*um)-(rho_R*UR))/(rho_m_R-rho_R))\n",
    "    \n",
    "    \n",
    "    \n",
    "    STL=um-func_c(rho_m_L,yL)\n",
    "    SHL=UL-func_c(rho_L,yL)\n",
    "    \n",
    "    for t in T:\n",
    "        \n",
    "        U1 = np.array([0])   #### rho\n",
    "        U2 = np.array([0])   #### U\n",
    "        U3 = np.array([0])   #### P\n",
    "        U4 = np.array([0])   #### Y\n",
    "        \n",
    "        for x in X:\n",
    "            \n",
    "            if (x==0) and (t==0):\n",
    "                \n",
    "                U1 = np.append(U1,np.nan)\n",
    "                U2 = np.append(U2,np.nan)\n",
    "                U3 = np.append(U3,np.nan)\n",
    "                U4 = np.append(U4,np.nan)\n",
    "\n",
    "            \n",
    "            if (x/t)>SR: \n",
    "                \n",
    "                U1 = np.append(U1,rho_R)\n",
    "                U2 = np.append(U2,UR)\n",
    "                U3 = np.append(U3,PR)\n",
    "                U4 = np.append(U4,yR)\n",
    "                \n",
    "            if ((x/t)<SR) and ((x/t)>Um):\n",
    "                \n",
    "                U1 = np.append(U1,rho_m_R)\n",
    "                U2 = np.append(U2,Um)\n",
    "                U3 = np.append(U3,pm)\n",
    "                U4 = np.append(U4,yR)\n",
    "                \n",
    "            if ((x/t) > STL) and ((x/t) < Um):\n",
    "                \n",
    "                U1 = np.append(U1,rho_m_L)\n",
    "                U2 = np.append(U2,Um)\n",
    "                U3 = np.append(U3,pm)\n",
    "                U4 = np.append(U4,yL)\n",
    "                \n",
    "            if ((x/t) > SHL) and ((x/t) < STL):\n",
    "                \n",
    "                u0 = um\n",
    "                u = (UL+um)/2\n",
    "                i=0\n",
    "                while abs(u0-u)>0.001:\n",
    "                    u0 = u \n",
    "                    u = UL+a*math.sqrt(yL)*(math.log(((((((rhol*a*math.sqrt(yL))/(u0-(x/t)))-rhol)*(1/(yL-1)))**(-1))-((1-yL)/rhol))*(rho_L/(1-(((1-yL)/rhol)*rho_L)))))\n",
    "                    i=i+1\n",
    "    \n",
    "                rho=(((((rhol*a*math.sqrt(yL))/(u-(x/t)))-rhol)*(1/(yL-1))))\n",
    "                p = (rho*rhol*(a**2)*yL)/(rhol-(rho*(1-yL)))\n",
    "                \n",
    "                U1 = np.append(U1,rho)\n",
    "                U2 = np.append(U2,u)\n",
    "                U3 = np.append(U3,p)\n",
    "                U4 = np.append(U4,yL)\n",
    "                \n",
    "            if (x/t) < SHL:\n",
    "                \n",
    "                U1 = np.append(U1,rho_L)\n",
    "                U2 = np.append(U2,UL)\n",
    "                U3 = np.append(U3,PL)\n",
    "                U4 = np.append(U4,yL)\n",
    "                \n",
    "            if (x/t)==Um or (x/t)==SHL or (x/t)==STL or (x/t)==SR:\n",
    "                \n",
    "                U1 = np.append(U1,np.nan)\n",
    "                U2 = np.append(U2,np.nan)\n",
    "                U3 = np.append(U3,np.nan)\n",
    "                U4 = np.append(U4,np.nan)\n",
    "                \n",
    "        U1 = U1[1:]\n",
    "        U2 = U2[1:]\n",
    "        U3 = U3[1:]\n",
    "        U4 = U4[1:]\n",
    "        U1 = U1.reshape(1,np.shape(X)[0])\n",
    "        U1 = pd.DataFrame(columns=U1_columns,data = U1)\n",
    "        U1_database=pd.concat([U1_database,U1],axis=0)\n",
    "        U2 = U2.reshape(1,np.shape(X)[0])\n",
    "        U2 = pd.DataFrame(columns=U2_columns,data = U2)\n",
    "        U2_database=pd.concat([U2_database,U2],axis=0)\n",
    "        U3 = U3.reshape(1,np.shape(X)[0])\n",
    "        U3 = pd.DataFrame(columns=U3_columns,data = U3)\n",
    "        U3_database=pd.concat([U3_database,U3],axis=0)\n",
    "        U4 = U4.reshape(1,np.shape(X)[0])\n",
    "        U4 = pd.DataFrame(columns=U4_columns,data = U4)\n",
    "        U4_database=pd.concat([U4_database,U4],axis=0)\n",
    "                \n",
    "    \n",
    "    \n",
    "    \n",
    "\n",
    "                \n",
    "        \n",
    "    \n",
    "    \n",
    "U1_database.set_index(np.append(np.array(['x']),T),inplace=True)\n",
    "U2_database.set_index(np.append(np.array(['x']),T),inplace=True) \n",
    "U3_database.set_index(np.append(np.array(['x']),T),inplace=True)\n",
    "U4_database.set_index(np.append(np.array(['x']),T),inplace=True)\n",
    "print('finished')"
   ]
  },
  {
   "cell_type": "code",
   "execution_count": 75,
   "metadata": {
    "collapsed": true
   },
   "outputs": [],
   "source": [
    "um=Um"
   ]
  },
  {
   "cell_type": "code",
   "execution_count": 63,
   "metadata": {},
   "outputs": [
    {
     "data": {
      "text/plain": [
       "-4.617636874292927"
      ]
     },
     "execution_count": 63,
     "metadata": {},
     "output_type": "execute_result"
    }
   ],
   "source": [
    "um"
   ]
  },
  {
   "cell_type": "code",
   "execution_count": 68,
   "metadata": {},
   "outputs": [
    {
     "data": {
      "image/png": "[encoded data removed]",
      "text/plain": [
       "<matplotlib.figure.Figure at 0x20951b16eb8>"
      ]
     },
     "metadata": {},
     "output_type": "display_data"
    }
   ],
   "source": [
    "fig,axes = plt.subplots(nrows=3,ncols=3,figsize=(20,15),)\n",
    "axes[0,2].plot(U3_database.iloc[0],U3_database.iloc[1],'black')\n",
    "axes[1,2].plot(U3_database.iloc[0],U3_database.iloc[4],'black')\n",
    "axes[2,2].plot(U3_database.iloc[0],U3_database.iloc[10],'black')\n",
    "axes[0,1].plot(U1_database.iloc[0],U1_database.iloc[1],'black')\n",
    "axes[1,1].plot(U1_database.iloc[0],U1_database.iloc[4],'black')\n",
    "axes[2,1].plot(U1_database.iloc[0],U1_database.iloc[10],'black')\n",
    "axes[0,0].plot(U2_database.iloc[0],U2_database.iloc[1],'black')\n",
    "axes[1,0].plot(U2_database.iloc[0],U2_database.iloc[4],'black')\n",
    "axes[2,0].plot(U2_database.iloc[0],U2_database.iloc[10],'black')\n",
    "\n",
    "axes[0,0].set_title('The solution for velocity at T=0.01s')\n",
    "axes[0,0].set_xlabel('X')\n",
    "axes[0,0].set_ylabel('u(x,t)')\n",
    "\n",
    "axes[1,0].set_title('The solution for velocity at T=0.3s')\n",
    "axes[1,0].set_xlabel('X')\n",
    "axes[1,0].set_ylabel('u(x,t)')\n",
    "\n",
    "axes[2,0].set_title('The solution for velocity at T=0.12s')\n",
    "axes[2,0].set_xlabel('X')\n",
    "axes[2,0].set_ylabel('u(x,t)')\n",
    "\n",
    "\n",
    "axes[0,1].set_title('The solution for density at T=0.01s')\n",
    "axes[0,1].set_xlabel('X')\n",
    "axes[0,1].set_ylabel('rho(x,t)')\n",
    "\n",
    "axes[1,1].set_title('The solution for density at T=0.3s')\n",
    "axes[1,1].set_xlabel('X')\n",
    "axes[1,1].set_ylabel('rho(x,t)')\n",
    "\n",
    "axes[2,1].set_title('The solution for density at T=0.12s')\n",
    "axes[2,1].set_xlabel('X')\n",
    "axes[2,1].set_ylabel('rho(x,t)')\n",
    "\n",
    "axes[0,2].set_title('The solution for pressure at T=0.01s')\n",
    "axes[0,2].set_xlabel('X')\n",
    "axes[0,2].set_ylabel('p(x,t)')\n",
    "\n",
    "axes[1,2].set_title('The solution for pressure at T=0.3s')\n",
    "axes[1,2].set_xlabel('X')\n",
    "axes[1,2].set_ylabel('p(x,t)')\n",
    "\n",
    "axes[2,2].set_title('The solution for pressure at T=0.12s')\n",
    "axes[2,2].set_xlabel('X')\n",
    "axes[2,2].set_ylabel('p(x,t)')\n",
    "plt.savefig('r1.png',facecolor='w',edgecolor='black')\n",
    "\n",
    "plt.show()"
   ]
  },
  {
   "cell_type": "code",
   "execution_count": 66,
   "metadata": {},
   "outputs": [
    {
     "data": {
      "text/plain": [
       "76.7007825144331"
      ]
     },
     "execution_count": 66,
     "metadata": {},
     "output_type": "execute_result"
    }
   ],
   "source": [
    "SR"
   ]
  },
  {
   "cell_type": "code",
   "execution_count": 67,
   "metadata": {},
   "outputs": [
    {
     "data": {
      "text/plain": [
       "array([0. , 0.1, 0.2, 0.3, 0.4, 0.5, 0.6, 0.7, 0.8, 0.9])"
      ]
     },
     "execution_count": 67,
     "metadata": {},
     "output_type": "execute_result"
    }
   ],
   "source": [
    "T"
   ]
  },
  {
   "cell_type": "code",
   "execution_count": null,
   "metadata": {
    "collapsed": true
   },
   "outputs": [],
   "source": []
  },
  {
   "cell_type": "code",
   "execution_count": null,
   "metadata": {
    "collapsed": true
   },
   "outputs": [],
   "source": []
  },
  {
   "cell_type": "code",
   "execution_count": null,
   "metadata": {
    "collapsed": true
   },
   "outputs": [],
   "source": []
  },
  {
   "cell_type": "code",
   "execution_count": null,
   "metadata": {
    "collapsed": true
   },
   "outputs": [],
   "source": []
  },
  {
   "cell_type": "code",
   "execution_count": null,
   "metadata": {
    "collapsed": true
   },
   "outputs": [],
   "source": []
  },
  {
   "cell_type": "code",
   "execution_count": null,
   "metadata": {
    "collapsed": true
   },
   "outputs": [],
   "source": []
  },
  {
   "cell_type": "code",
   "execution_count": null,
   "metadata": {
    "collapsed": true
   },
   "outputs": [],
   "source": []
  },
  {
   "cell_type": "code",
   "execution_count": null,
   "metadata": {
    "collapsed": true
   },
   "outputs": [],
   "source": []
  },
  {
   "cell_type": "code",
   "execution_count": null,
   "metadata": {
    "collapsed": true
   },
   "outputs": [],
   "source": []
  }
 ],
 "metadata": {
  "kernelspec": {
   "display_name": "Python 3",
   "language": "python",
   "name": "python3"
  },
  "language_info": {
   "codemirror_mode": {
    "name": "ipython",
    "version": 3
   },
   "file_extension": ".py",
   "mimetype": "text/x-python",
   "name": "python",
   "nbconvert_exporter": "python",
   "pygments_lexer": "ipython3",
   "version": "3.6.2"
  }
 },
 "nbformat": 4,
 "nbformat_minor": 2
}
